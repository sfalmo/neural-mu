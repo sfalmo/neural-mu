{
 "cells": [
  {
   "cell_type": "code",
   "execution_count": null,
   "id": "195c6f86-2905-40dc-8c5f-28fbc9a20df3",
   "metadata": {},
   "outputs": [],
   "source": [
    "include(\"utils.jl\")\n",
    "\n",
    "mkpath(\"predictions\")"
   ]
  },
  {
   "cell_type": "markdown",
   "id": "98158d78-0856-4eab-bb64-a0eb4a43f600",
   "metadata": {},
   "source": [
    "#### 1D hard rods"
   ]
  },
  {
   "cell_type": "code",
   "execution_count": null,
   "id": "481b5845-3d11-4048-a99e-8feff88da614",
   "metadata": {},
   "outputs": [],
   "source": [
    "L = 15.0\n",
    "T = 1.0\n",
    "μ = 2.0\n",
    "Vext(x) = x < 2.5 || x > L - 2.5 ? Inf : 0\n",
    "model = load_trained_model(\"models/model_state_history_1D-hard-rods.jld2\")\n",
    "\n",
    "xs, ρ_neural = minimize(L, T, Vext, xs -> get_c1_neural(model.c1, xs); μ)\n",
    "xs, ρ_Percus = minimize(L, T, Vext, get_c1_Percus; μ)\n",
    "\n",
    "jldsave(\"predictions/walls_1D-hard-rods.jld2\"; T, μ, xs, ρ_neural, ρ_Percus)\n",
    "\n",
    "plot(xs, ρ_neural, label=\"ρ (neural)\")\n",
    "plot!(xs, ρ_Percus, label=\"ρ (Percus)\", linestyle=:dash)"
   ]
  },
  {
   "cell_type": "markdown",
   "id": "cf3e053d-652d-4ad0-9da4-4a6b93af7951",
   "metadata": {},
   "source": [
    "#### 3D hard spheres"
   ]
  },
  {
   "cell_type": "code",
   "execution_count": null,
   "id": "3826eba9-256b-4ce6-8b68-14161900674b",
   "metadata": {},
   "outputs": [],
   "source": [
    "L = 15.0\n",
    "T = 1.0\n",
    "μ = 3.0\n",
    "Vext(x) = x < 2.5 || x > L - 2.5 ? Inf : 0\n",
    "model = load_trained_model(\"models/model_state_history_3D-hard-spheres.jld2\")\n",
    "model_only_c1 = load_trained_model(\"models/model_state_history_3D-hard-spheres_only-c1.jld2\")\n",
    "\n",
    "xs, ρ_neural = minimize(L, T, Vext, xs -> get_c1_neural(model.c1, xs); μ)\n",
    "xs, ρ_neural_only_c1 = minimize(L, T, Vext, xs -> get_c1_neural(model_only_c1.c1, xs; offset=false); μ)\n",
    "\n",
    "jldsave(\"predictions/walls_3D-hard-spheres.jld2\"; T, μ, xs, ρ_neural, ρ_neural_only_c1)\n",
    "\n",
    "plot(xs, ρ_neural, label=\"ρ (neural)\")\n",
    "plot!(xs, ρ_neural_only_c1, label=\"ρ (neural c1)\", linestyle=:dash)"
   ]
  },
  {
   "cell_type": "markdown",
   "id": "4bcda4dd-2ae0-40fd-b465-17ee695dc158",
   "metadata": {},
   "source": [
    "#### 3D Lennard-Jones, $k_B T = 1.5 \\varepsilon$"
   ]
  },
  {
   "cell_type": "code",
   "execution_count": null,
   "id": "93236af9-fc29-4937-a65d-d9332d170ac7",
   "metadata": {},
   "outputs": [],
   "source": [
    "L = 15.0\n",
    "T = 1.5\n",
    "μ = 0.0\n",
    "Vext(x) = x < 2.5 || x > L - 2.5 ? Inf : 0\n",
    "model = load_trained_model(\"models/model_state_history_3D-LJ-T1.5.jld2\")\n",
    "model_only_c1 = load_trained_model(\"models/model_state_history_3D-LJ-T1.5_only-c1.jld2\")\n",
    "model_canonical = load_trained_model(\"models/model_state_history_3D-LJ-T1.5_canonical.jld2\")\n",
    "\n",
    "xs, ρ_neural = minimize(L, T, Vext, xs -> get_c1_neural(model.c1, xs); μ)\n",
    "xs, ρ_neural_only_c1 = minimize(L, T, Vext, xs -> get_c1_neural(model_only_c1.c1, xs; offset=false); μ)\n",
    "xs, ρ_neural_canonical = minimize(L, T, Vext, xs -> get_c1_neural(model_canonical.c1, xs); μ)\n",
    "\n",
    "jldsave(\"predictions/walls_3D-LJ-T1.5.jld2\"; T, μ, xs, ρ_neural, ρ_neural_only_c1, ρ_neural_canonical)\n",
    "\n",
    "plot(xs, ρ_neural, label=\"ρ (neural)\")\n",
    "plot!(xs, ρ_neural_only_c1, label=\"ρ (neural c1)\", linestyle=:dash)\n",
    "plot!(xs, ρ_neural_canonical, label=\"ρ (neural canonical)\", linestyle=:dash)"
   ]
  },
  {
   "cell_type": "markdown",
   "id": "e7ee9a8c-04f2-42cb-a4b7-77b6c3fb4e1f",
   "metadata": {},
   "source": [
    "#### 3D Lennard-Jones, $1.0 < k_B T / \\varepsilon < 2.0$"
   ]
  },
  {
   "cell_type": "code",
   "execution_count": null,
   "id": "d3e04d2a-2e8b-4795-a0cf-75f3c1c5794a",
   "metadata": {},
   "outputs": [],
   "source": [
    "L = 15.0\n",
    "T = 1.5\n",
    "μ = 0.0\n",
    "Vext(x) = x < 2.5 || x > L - 2.5 ? Inf : 0\n",
    "model = load_trained_model(\"models/model_state_history_3D-LJ-Tvar.jld2\")\n",
    "model_only_c1 = load_trained_model(\"models/model_state_history_3D-LJ-Tvar_only-c1.jld2\")\n",
    "\n",
    "xs, ρ_neural = minimize(L, T, Vext, xs -> get_c1_neural(model.c1, xs); μ)\n",
    "xs, ρ_neural_only_c1 = minimize(L, T, Vext, xs -> get_c1_neural(model_only_c1.c1, xs; offset=false); μ)\n",
    "\n",
    "jldsave(\"predictions/walls_3D-LJ-Tvar.jld2\"; T, μ, xs, ρ_neural, ρ_neural_only_c1)\n",
    "\n",
    "plot(xs, ρ_neural, label=\"ρ (neural)\")\n",
    "plot!(xs, ρ_neural_only_c1, label=\"ρ (neural c1)\", linestyle=:dash)"
   ]
  },
  {
   "cell_type": "markdown",
   "id": "4af73599-5b0e-41ea-912b-0546a08d3b75",
   "metadata": {},
   "source": [
    "##### Phase coexistence"
   ]
  },
  {
   "cell_type": "code",
   "execution_count": null,
   "id": "c05ca951-0934-43f2-811f-2bbcd038ba88",
   "metadata": {},
   "outputs": [],
   "source": [
    "L = 100.0\n",
    "T = 1.0\n",
    "Vext(x) = 0\n",
    "model = load_trained_model(\"models/model_state_history_3D-LJ-Tvar.jld2\")\n",
    "ρ_init(x) = 0.5 * (tanh(L/4 - x) + tanh(x - 3*L/4)) + 1.0\n",
    "\n",
    "xs, ρ_neural = minimize(L, T, Vext, xs -> get_c1_neural(model.c1, xs); ρ̄=0.4, ρ_init=ρ_init, symmetrize_c1=true)\n",
    "\n",
    "jldsave(\"predictions/coex_3D-LJ-Tvar.jld2\"; T, xs, ρ_neural)\n",
    "\n",
    "plot(xs, ρ_neural, label=\"ρ (neural)\")"
   ]
  },
  {
   "cell_type": "code",
   "execution_count": null,
   "id": "c06a0da2-6bd1-452e-9070-305e003a39db",
   "metadata": {},
   "outputs": [],
   "source": []
  }
 ],
 "metadata": {
  "kernelspec": {
   "display_name": "Julia 1.11.5",
   "language": "julia",
   "name": "julia-1.11"
  },
  "language_info": {
   "file_extension": ".jl",
   "mimetype": "application/julia",
   "name": "julia",
   "version": "1.11.5"
  }
 },
 "nbformat": 4,
 "nbformat_minor": 5
}
