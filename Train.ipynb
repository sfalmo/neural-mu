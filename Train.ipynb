{
 "cells": [
  {
   "cell_type": "code",
   "execution_count": null,
   "id": "1fadc16a-a5e6-4b00-9cc5-01077b33105d",
   "metadata": {},
   "outputs": [],
   "source": [
    "include(\"utils.jl\")\n",
    "\n",
    "mkpath(\"models\")"
   ]
  },
  {
   "cell_type": "markdown",
   "id": "13feb5d6-9f87-4838-a2df-87395751971c",
   "metadata": {},
   "source": [
    "#### Choose system and specify model"
   ]
  },
  {
   "cell_type": "code",
   "execution_count": null,
   "id": "e57ca3b2-a789-4d32-b4d8-86539f57b817",
   "metadata": {},
   "outputs": [],
   "source": [
    "system = \"3D-LJ-Tvar\"\n",
    "datadir = \"data/$(system)\"\n",
    "dx = 0.01\n",
    "c1_with_T = true\n",
    "window_width = 3.5  # in sigma from center of window\n",
    "trainable=(:c1, :μ)\n",
    "#trainable=(:c1,)\n",
    "hidden_nodes = [128, 64, 32]\n",
    "window_bins = round(Int, window_width*2/dx) + 1"
   ]
  },
  {
   "cell_type": "markdown",
   "id": "f82526f3-0451-49ed-8084-649aba012193",
   "metadata": {},
   "source": [
    "#### Plot random simulation result from the dataset"
   ]
  },
  {
   "cell_type": "code",
   "execution_count": null,
   "id": "e97b2b9a-3dbc-46ef-bbf5-f8377c52f483",
   "metadata": {},
   "outputs": [],
   "source": [
    "file = jldopen(rand(readdir(datadir, join=true)), \"r\")\n",
    "if \"μ\" in keys(file)\n",
    "    println(\"μ = \", file[\"μ\"])\n",
    "end\n",
    "println(\"T = \", file[\"T\"])\n",
    "plot(file[\"xs\"], file[\"ρ\"], label=\"ρ (sim)\")\n",
    "plot!(file[\"xs\"], file[\"Vext\"], label=\"Vext (sim)\")"
   ]
  },
  {
   "cell_type": "markdown",
   "id": "ed276ecf-73a7-4794-a56b-e5f9ce27e9f3",
   "metadata": {},
   "source": [
    "#### Prepare data"
   ]
  },
  {
   "cell_type": "code",
   "execution_count": null,
   "id": "a0fed85c-c836-4b9b-a4b7-0fd1dbe8f615",
   "metadata": {},
   "outputs": [],
   "source": [
    "ρ_profiles, Vext_profiles, μ_values, T_values = read_sim_data(datadir)\n",
    "ρ_windows, sim_onehots, ρ_values, Vext_values = generate_inout(ρ_profiles, Vext_profiles; window_bins)\n",
    "\n",
    "size(ρ_windows), size(sim_onehots), size(ρ_values), size(Vext_values)"
   ]
  },
  {
   "cell_type": "markdown",
   "id": "36607ecb-3ed8-47bc-b813-69419dd8de4c",
   "metadata": {},
   "source": [
    "#### Train model"
   ]
  },
  {
   "cell_type": "code",
   "execution_count": null,
   "id": "7f5943f3-c73e-4ee3-a48b-11df758c17e6",
   "metadata": {},
   "outputs": [],
   "source": [
    "μ_init = :μ in trainable ? zeros(size(μ_values)) : Float32.(μ_values)\n",
    "T_init = :T in trainable ? ones(size(T_values)) : Float32.(T_values)\n",
    "\n",
    "model = Model(size(ρ_windows)[1], size(sim_onehots)[1]; T_init, μ_init, c1_with_T, trainable, hidden_nodes) |> gpu\n",
    "display(model)\n",
    "\n",
    "ρ_windows, sim_onehots, ρ_values, Vext_values = (ρ_windows, sim_onehots, ρ_values, Vext_values) |> gpu\n",
    "\n",
    "opt = Flux.setup(Adam(), model)\n",
    "\n",
    "batchsize = 128\n",
    "loader = Flux.DataLoader((ρ_windows, sim_onehots, ρ_values, Vext_values), batchsize=batchsize, shuffle=true, partial=false)\n",
    "ρ0_batch = zeros(size(ρ_windows)[1], batchsize) |> gpu\n",
    "ρ0_windows = zero(ρ_windows) |> gpu\n",
    "\n",
    "loss_EL(c1, μ, T, ρ_values, Vext_values) = Flux.mse(c1 .+ (μ .- Vext_values) ./ T .- log.(ρ_values), 0)\n",
    "\n",
    "get_learning_rate(epoch; initial=0.001, rate=0.05) = initial * (1 - rate)^epoch\n",
    "\n",
    "timestamp = now()\n",
    "epochs = 100\n",
    "model_state_history = []\n",
    "for epoch in 1:epochs\n",
    "    push!(model_state_history, Flux.state(model |> cpu))\n",
    "    learning_rate = get_learning_rate(epoch)\n",
    "    Flux.adjust!(opt, learning_rate)\n",
    "    @printf \"Epoch: %3i (learning_rate: %.2e)...\" epoch learning_rate; flush(stdout)\n",
    "    Flux.train!(model, loader, opt) do model, ρ_windows_batch, sim_onehots_batch, ρ_values_batch, Vext_values_batch\n",
    "        c1, μ, T = model(ρ_windows_batch, sim_onehots_batch)\n",
    "        loss_EL(c1, μ, T, ρ_values_batch, Vext_values_batch)\n",
    "    end\n",
    "    c1, μ, T = model(ρ_windows, sim_onehots)\n",
    "    @printf \" loss_EL: %.5f\" loss_EL(c1, μ, T, ρ_values, Vext_values)\n",
    "    @printf \"\\n\"; flush(stdout)\n",
    "end\n",
    "push!(model_state_history, Flux.state(model |> cpu))\n",
    "\n",
    "c1_model_savefile = \"models/c1_model_$(system)_$(timestamp).bson\"\n",
    "c1_model = model.c1 |> cpu\n",
    "BSON.@save c1_model_savefile c1_model\n",
    "model_state_history_savefile = \"models/model_state_history_$(system)_$(timestamp).jld2\"\n",
    "jldsave(model_state_history_savefile; model_state_history)"
   ]
  },
  {
   "cell_type": "code",
   "execution_count": null,
   "id": "eefab9a0-793c-497a-ba7f-aaca0c3facae",
   "metadata": {},
   "outputs": [],
   "source": []
  }
 ],
 "metadata": {
  "kernelspec": {
   "display_name": "Julia 1.11.5",
   "language": "julia",
   "name": "julia-1.11"
  },
  "language_info": {
   "file_extension": ".jl",
   "mimetype": "application/julia",
   "name": "julia",
   "version": "1.11.5"
  }
 },
 "nbformat": 4,
 "nbformat_minor": 5
}
